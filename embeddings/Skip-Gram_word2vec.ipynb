{
 "cells": [
  {
   "cell_type": "markdown",
   "metadata": {},
   "source": [
    "# Skip-gram word2vec\n",
    "\n",
    "In this notebook, I'll lead you through using TensorFlow to implement the word2vec algorithm using the skip-gram architecture. By implementing this, you'll learn about embedding words for use in natural language processing. This will come in handy when dealing with things like machine translation.\n",
    "\n",
    "## Readings\n",
    "\n",
    "Here are the resources I used to build this notebook. I suggest reading these either beforehand or while you're working on this material.\n",
    "\n",
    "* A really good [conceptual overview](http://mccormickml.com/2016/04/19/word2vec-tutorial-the-skip-gram-model/) of word2vec from Chris McCormick \n",
    "* [First word2vec paper](https://arxiv.org/pdf/1301.3781.pdf) from Mikolov et al.\n",
    "* [NIPS paper](http://papers.nips.cc/paper/5021-distributed-representations-of-words-and-phrases-and-their-compositionality.pdf) with improvements for word2vec also from Mikolov et al.\n",
    "* An [implementation of word2vec](http://www.thushv.com/natural_language_processing/word2vec-part-1-nlp-with-deep-learning-with-tensorflow-skip-gram/) from Thushan Ganegedara\n",
    "* TensorFlow [word2vec tutorial](https://www.tensorflow.org/tutorials/word2vec)\n",
    "\n",
    "## Word embeddings\n",
    "\n",
    "When you're dealing with words in text, you end up with tens of thousands of classes to predict, one for each word. Trying to one-hot encode these words is massively inefficient, you'll have one element set to 1 and the other 50,000 set to 0. The matrix multiplication going into the first hidden layer will have almost all of the resulting values be zero. This a huge waste of computation. \n",
    "\n",
    "![one-hot encodings](assets/one_hot_encoding.png)\n",
    "\n",
    "To solve this problem and greatly increase the efficiency of our networks, we use what are called embeddings. Embeddings are just a fully connected layer like you've seen before. We call this layer the embedding layer and the weights are embedding weights. We skip the multiplication into the embedding layer by instead directly grabbing the hidden layer values from the weight matrix. We can do this because the multiplication of a one-hot encoded vector with a matrix returns the row of the matrix corresponding the index of the \"on\" input unit.\n",
    "\n",
    "![lookup](assets/lookup_matrix.png)\n",
    "\n",
    "Instead of doing the matrix multiplication, we use the weight matrix as a lookup table. We encode the words as integers, for example \"heart\" is encoded as 958, \"mind\" as 18094. Then to get hidden layer values for \"heart\", you just take the 958th row of the embedding matrix. This process is called an **embedding lookup** and the number of hidden units is the **embedding dimension**.\n",
    "\n",
    "<img src='assets/tokenize_lookup.png' width=500>\n",
    " \n",
    "There is nothing magical going on here. The embedding lookup table is just a weight matrix. The embedding layer is just a hidden layer. The lookup is just a shortcut for the matrix multiplication. The lookup table is trained just like any weight matrix as well.\n",
    "\n",
    "Embeddings aren't only used for words of course. You can use them for any model where you have a massive number of classes. A particular type of model called **Word2Vec** uses the embedding layer to find vector representations of words that contain semantic meaning.\n",
    "\n"
   ]
  },
  {
   "cell_type": "markdown",
   "metadata": {},
   "source": [
    "## Word2Vec\n",
    "\n",
    "The word2vec algorithm finds much more efficient representations by finding vectors that represent the words. These vectors also contain semantic information about the words. Words that show up in similar contexts, such as \"black\", \"white\", and \"red\" will have vectors near each other. There are two architectures for implementing word2vec, CBOW (Continuous Bag-Of-Words) and Skip-gram.\n",
    "\n",
    "<img src=\"assets/word2vec_architectures.png\" width=\"500\">\n",
    "\n",
    "In this implementation, we'll be using the skip-gram architecture because it performs better than CBOW. Here, we pass in a word and try to predict the words surrounding it in the text. In this way, we can train the network to learn representations for words that show up in similar contexts.\n",
    "\n",
    "First up, importing packages."
   ]
  },
  {
   "cell_type": "code",
   "execution_count": 24,
   "metadata": {
    "collapsed": true
   },
   "outputs": [],
   "source": [
    "import time\n",
    "\n",
    "import numpy as np\n",
    "import tensorflow as tf\n",
    "\n",
    "import utils"
   ]
  },
  {
   "cell_type": "markdown",
   "metadata": {},
   "source": [
    "Load the [text8 dataset](http://mattmahoney.net/dc/textdata.html), a file of cleaned up Wikipedia articles from Matt Mahoney. The next cell will download the data set to the `data` folder. Then you can extract it and delete the archive file to save storage space."
   ]
  },
  {
   "cell_type": "code",
   "execution_count": 25,
   "metadata": {
    "collapsed": false
   },
   "outputs": [],
   "source": [
    "from urllib.request import urlretrieve\n",
    "from os.path import isfile, isdir\n",
    "from tqdm import tqdm\n",
    "import zipfile\n",
    "\n",
    "dataset_folder_path = 'data'\n",
    "dataset_filename = 'text8.zip'\n",
    "dataset_name = 'Text8 Dataset'\n",
    "\n",
    "class DLProgress(tqdm):\n",
    "    last_block = 0\n",
    "\n",
    "    def hook(self, block_num=1, block_size=1, total_size=None):\n",
    "        self.total = total_size\n",
    "        self.update((block_num - self.last_block) * block_size)\n",
    "        self.last_block = block_num\n",
    "\n",
    "if not isfile(dataset_filename):\n",
    "    with DLProgress(unit='B', unit_scale=True, miniters=1, desc=dataset_name) as pbar:\n",
    "        urlretrieve(\n",
    "            'http://mattmahoney.net/dc/text8.zip',\n",
    "            dataset_filename,\n",
    "            pbar.hook)\n",
    "\n",
    "if not isdir(dataset_folder_path):\n",
    "    with zipfile.ZipFile(dataset_filename) as zip_ref:\n",
    "        zip_ref.extractall(dataset_folder_path)\n",
    "        \n",
    "with open('data/text8') as f:\n",
    "    text = f.read()"
   ]
  },
  {
   "cell_type": "markdown",
   "metadata": {},
   "source": [
    "## Preprocessing\n",
    "\n",
    "Here I'm fixing up the text to make training easier. This comes from the `utils` module I wrote. The `preprocess` function coverts any punctuation into tokens, so a period is changed to ` <PERIOD> `. In this data set, there aren't any periods, but it will help in other NLP problems. I'm also removing all words that show up five or fewer times in the dataset. This will greatly reduce issues due to noise in the data and improve the quality of the vector representations. If you want to write your own functions for this stuff, go for it."
   ]
  },
  {
   "cell_type": "code",
   "execution_count": 26,
   "metadata": {
    "collapsed": false
   },
   "outputs": [
    {
     "name": "stdout",
     "output_type": "stream",
     "text": [
      "['anarchism', 'originated', 'as', 'a', 'term', 'of', 'abuse', 'first', 'used', 'against', 'early', 'working', 'class', 'radicals', 'including', 'the', 'diggers', 'of', 'the', 'english', 'revolution', 'and', 'the', 'sans', 'culottes', 'of', 'the', 'french', 'revolution', 'whilst']\n"
     ]
    }
   ],
   "source": [
    "words = utils.preprocess(text)\n",
    "print(words[:30])"
   ]
  },
  {
   "cell_type": "code",
   "execution_count": 27,
   "metadata": {
    "collapsed": false
   },
   "outputs": [
    {
     "name": "stdout",
     "output_type": "stream",
     "text": [
      "Total words: 16680599\n",
      "Unique words: 63641\n"
     ]
    }
   ],
   "source": [
    "print(\"Total words: {}\".format(len(words)))\n",
    "print(\"Unique words: {}\".format(len(set(words))))"
   ]
  },
  {
   "cell_type": "markdown",
   "metadata": {},
   "source": [
    "And here I'm creating dictionaries to covert words to integers and backwards, integers to words. The integers are assigned in descending frequency order, so the most frequent word (\"the\") is given the integer 0 and the next most frequent is 1 and so on. The words are converted to integers and stored in the list `int_words`."
   ]
  },
  {
   "cell_type": "code",
   "execution_count": 28,
   "metadata": {
    "collapsed": true
   },
   "outputs": [],
   "source": [
    "vocab_to_int, int_to_vocab = utils.create_lookup_tables(words)\n",
    "int_words = [vocab_to_int[word] for word in words]"
   ]
  },
  {
   "cell_type": "markdown",
   "metadata": {},
   "source": [
    "## Subsampling\n",
    "\n",
    "Words that show up often such as \"the\", \"of\", and \"for\" don't provide much context to the nearby words. If we discard some of them, we can remove some of the noise from our data and in return get faster training and better representations. This process is called subsampling by Mikolov. For each word $w_i$ in the training set, we'll discard it with probability given by \n",
    "\n",
    "$$ P(w_i) = 1 - \\sqrt{\\frac{t}{f(w_i)}} $$\n",
    "\n",
    "where $t$ is a threshold parameter and $f(w_i)$ is the frequency of word $w_i$ in the total dataset.\n",
    "\n",
    "I'm going to leave this up to you as an exercise. This is more of a programming challenge, than about deep learning specifically. But, being able to prepare your data for your network is an important skill to have. Check out my solution to see how I did it.\n",
    "\n",
    "> **Exercise:** Implement subsampling for the words in `int_words`. That is, go through `int_words` and discard each word given the probablility $P(w_i)$ shown above. Note that $P(w_i)$ is the probability that a word is discarded. Assign the subsampled data to `train_words`."
   ]
  },
  {
   "cell_type": "code",
   "execution_count": 29,
   "metadata": {
    "collapsed": true
   },
   "outputs": [],
   "source": [
    "## Your code here\n",
    "from collections import Counter\n",
    "import random\n",
    "\n",
    "threshold = 1e-5\n",
    "word_counts = Counter(int_words)\n",
    "total_count = len(int_words)\n",
    "freqs = {word: count/total_count for word, count in word_counts.items()}\n",
    "p_drop = {word: 1 - np.sqrt(threshold/freqs[word]) for word in word_counts}\n",
    "train_words = [word for word in int_words if random.random() < (1 - p_drop[word])]"
   ]
  },
  {
   "cell_type": "markdown",
   "metadata": {},
   "source": [
    "## Making batches"
   ]
  },
  {
   "cell_type": "markdown",
   "metadata": {},
   "source": [
    "Now that our data is in good shape, we need to get it into the proper form to pass it into our network. With the skip-gram architecture, for each word in the text, we want to grab all the words in a window around that word, with size $C$. \n",
    "\n",
    "From [Mikolov et al.](https://arxiv.org/pdf/1301.3781.pdf): \n",
    "\n",
    "\"Since the more distant words are usually less related to the current word than those close to it, we give less weight to the distant words by sampling less from those words in our training examples... If we choose $C = 5$, for each training word we will select randomly a number $R$ in range $< 1; C >$, and then use $R$ words from history and $R$ words from the future of the current word as correct labels.\"\n",
    "\n",
    "> **Exercise:** Implement a function `get_target` that receives a list of words, an index, and a window size, then returns a list of words in the window around the index. Make sure to use the algorithm described above, where you choose a random number of words from the window."
   ]
  },
  {
   "cell_type": "code",
   "execution_count": 30,
   "metadata": {
    "collapsed": true
   },
   "outputs": [],
   "source": [
    "def get_target(words, idx, window_size=5):\n",
    "    ''' Get a list of words in a window around an index. '''\n",
    "    \n",
    "    R = np.random.randint(1, window_size+1)\n",
    "    start = idx - R if (idx - R) > 0 else 0\n",
    "    stop = idx + R\n",
    "    target_words = set(words[start:idx] + words[idx+1:stop+1])\n",
    "    \n",
    "    return list(target_words)    \n"
   ]
  },
  {
   "cell_type": "markdown",
   "metadata": {},
   "source": [
    "Here's a function that returns batches for our network. The idea is that it grabs `batch_size` words from a words list. Then for each of those words, it gets the target words in the window. I haven't found a way to pass in a random number of target words and get it to work with the architecture, so I make one row per input-target pair. This is a generator function by the way, helps save memory."
   ]
  },
  {
   "cell_type": "code",
   "execution_count": 31,
   "metadata": {
    "collapsed": true
   },
   "outputs": [],
   "source": [
    "def get_batches(words, batch_size, window_size=5):\n",
    "    ''' Create a generator of word batches as a tuple (inputs, targets) '''\n",
    "    \n",
    "    n_batches = len(words)//batch_size\n",
    "    \n",
    "    # only full batches\n",
    "    words = words[:n_batches*batch_size]\n",
    "    \n",
    "    for idx in range(0, len(words), batch_size):\n",
    "        x, y = [], []\n",
    "        batch = words[idx:idx+batch_size]\n",
    "        for ii in range(len(batch)):\n",
    "            batch_x = batch[ii]\n",
    "            batch_y = get_target(batch, ii, window_size)\n",
    "            y.extend(batch_y)\n",
    "            x.extend([batch_x]*len(batch_y))\n",
    "        yield x, y\n",
    "    "
   ]
  },
  {
   "cell_type": "markdown",
   "metadata": {},
   "source": [
    "## Building the graph\n",
    "\n",
    "From [Chris McCormick's blog](http://mccormickml.com/2016/04/19/word2vec-tutorial-the-skip-gram-model/), we can see the general structure of our network.\n",
    "![embedding_network](./assets/skip_gram_net_arch.png)\n",
    "\n",
    "The input words are passed in as integers. This will go into a hidden layer of linear units, then into a softmax layer. We'll use the softmax layer to make a prediction like normal.\n",
    "\n",
    "The idea here is to train the hidden layer weight matrix to find efficient representations for our words. We can discard the softmax layer becuase we don't really care about making predictions with this network. We just want the embedding matrix so we can use it in other networks we build from the dataset.\n",
    "\n",
    "I'm going to have you build the graph in stages now. First off, creating the `inputs` and `labels` placeholders like normal.\n",
    "\n",
    "> **Exercise:** Assign `inputs` and `labels` using `tf.placeholder`. We're going to be passing in integers, so set the data types to `tf.int32`. The batches we're passing in will have varying sizes, so set the batch sizes to [`None`]. To make things work later, you'll need to set the second dimension of `labels` to `None` or `1`."
   ]
  },
  {
   "cell_type": "code",
   "execution_count": 32,
   "metadata": {
    "collapsed": false
   },
   "outputs": [],
   "source": [
    "train_graph = tf.Graph()\n",
    "with train_graph.as_default():\n",
    "    inputs = tf.placeholder(tf.int32, [None], name='inputs')\n",
    "#     labels = tf.placeholder(tf.int32, [None, None], name='labels')\n",
    "    labels = tf.placeholder(tf.int32, [None, None], name='labels')"
   ]
  },
  {
   "cell_type": "markdown",
   "metadata": {},
   "source": [
    "## Embedding\n",
    "\n"
   ]
  },
  {
   "cell_type": "markdown",
   "metadata": {
    "collapsed": true
   },
   "source": [
    "The embedding matrix has a size of the number of words by the number of units in the hidden layer. So, if you have 10,000 words and 300 hidden units, the matrix will have size $10,000 \\times 300$. Remember that we're using tokenized data for our inputs, usually as integers, where the number of tokens is the number of words in our vocabulary.\n",
    "\n",
    "\n",
    "> **Exercise:** Tensorflow provides a convenient function [`tf.nn.embedding_lookup`](https://www.tensorflow.org/api_docs/python/tf/nn/embedding_lookup) that does this lookup for us. You pass in the embedding matrix and a tensor of integers, then it returns rows in the matrix corresponding to those integers. Below, set the number of embedding features you'll use (200 is a good start), create the embedding matrix variable, and use `tf.nn.embedding_lookup` to get the embedding tensors. For the embedding matrix, I suggest you initialize it with a uniform random numbers between -1 and 1 using [tf.random_uniform](https://www.tensorflow.org/api_docs/python/tf/random_uniform)."
   ]
  },
  {
   "cell_type": "code",
   "execution_count": 33,
   "metadata": {
    "collapsed": false
   },
   "outputs": [],
   "source": [
    "n_vocab = len(int_to_vocab)\n",
    "n_embedding =  300\n",
    "with train_graph.as_default():\n",
    "    embedding = tf.Variable(tf.random_uniform((n_vocab, n_embedding), -1, 1))\n",
    "    embed = tf.nn.embedding_lookup(embedding, inputs) # use tf.nn.embedding_lookup to get the hidden layer output"
   ]
  },
  {
   "cell_type": "markdown",
   "metadata": {},
   "source": [
    "## Negative sampling\n",
    "\n"
   ]
  },
  {
   "cell_type": "markdown",
   "metadata": {},
   "source": [
    "For every example we give the network, we train it using the output from the softmax layer. That means for each input, we're making very small changes to millions of weights even though we only have one true example. This makes training the network very inefficient. We can approximate the loss from the softmax layer by only updating a small subset of all the weights at once. We'll update the weights for the correct label, but only a small number of incorrect labels. This is called [\"negative sampling\"](http://papers.nips.cc/paper/5021-distributed-representations-of-words-and-phrases-and-their-compositionality.pdf). Tensorflow has a convenient function to do this, [`tf.nn.sampled_softmax_loss`](https://www.tensorflow.org/api_docs/python/tf/nn/sampled_softmax_loss).\n",
    "\n",
    "> **Exercise:** Below, create weights and biases for the softmax layer. Then, use [`tf.nn.sampled_softmax_loss`](https://www.tensorflow.org/api_docs/python/tf/nn/sampled_softmax_loss) to calculate the loss. Be sure to read the documentation to figure out how it works."
   ]
  },
  {
   "cell_type": "code",
   "execution_count": 34,
   "metadata": {
    "collapsed": false
   },
   "outputs": [],
   "source": [
    "# Number of negative labels to sample\n",
    "n_sampled = 100\n",
    "with train_graph.as_default():\n",
    "    softmax_w = tf.Variable(tf.truncated_normal((n_vocab, n_embedding))) # create softmax weight matrix here\n",
    "    softmax_b = tf.Variable(tf.zeros(n_vocab), name=\"softmax_bias\") # create softmax biases here\n",
    "    \n",
    "    # Calculate the loss using negative sampling\n",
    "    loss = tf.nn.sampled_softmax_loss(\n",
    "        weights=softmax_w,\n",
    "        biases=softmax_b,\n",
    "        labels=labels,\n",
    "        inputs=embed,\n",
    "        num_sampled=n_sampled,\n",
    "        num_classes=n_vocab)\n",
    "    \n",
    "    cost = tf.reduce_mean(loss)\n",
    "    optimizer = tf.train.AdamOptimizer().minimize(cost)"
   ]
  },
  {
   "cell_type": "markdown",
   "metadata": {},
   "source": [
    "## Validation\n",
    "\n",
    "This code is from Thushan Ganegedara's implementation. Here we're going to choose a few common words and few uncommon words. Then, we'll print out the closest words to them. It's a nice way to check that our embedding table is grouping together words with similar semantic meanings."
   ]
  },
  {
   "cell_type": "code",
   "execution_count": 35,
   "metadata": {
    "collapsed": true
   },
   "outputs": [],
   "source": [
    "with train_graph.as_default():\n",
    "    ## From Thushan Ganegedara's implementation\n",
    "    valid_size = 16 # Random set of words to evaluate similarity on.\n",
    "    valid_window = 100\n",
    "    # pick 8 samples from (0,100) and (1000,1100) each ranges. lower id implies more frequent \n",
    "    valid_examples = np.array(random.sample(range(valid_window), valid_size//2))\n",
    "    valid_examples = np.append(valid_examples, \n",
    "                               random.sample(range(1000,1000+valid_window), valid_size//2))\n",
    "\n",
    "    valid_dataset = tf.constant(valid_examples, dtype=tf.int32)\n",
    "    \n",
    "    # We use the cosine distance:\n",
    "    norm = tf.sqrt(tf.reduce_sum(tf.square(embedding), 1, keep_dims=True))\n",
    "    normalized_embedding = embedding / norm\n",
    "    valid_embedding = tf.nn.embedding_lookup(normalized_embedding, valid_dataset)\n",
    "    similarity = tf.matmul(valid_embedding, tf.transpose(normalized_embedding))"
   ]
  },
  {
   "cell_type": "code",
   "execution_count": 36,
   "metadata": {
    "collapsed": true
   },
   "outputs": [],
   "source": [
    "# If the checkpoints directory doesn't exist:\n",
    "!mkdir checkpoints"
   ]
  },
  {
   "cell_type": "markdown",
   "metadata": {},
   "source": [
    "## Training\n",
    "\n",
    "Below is the code to train the network. Every 100 batches it reports the training loss. Every 1000 batches, it'll print out the validation words."
   ]
  },
  {
   "cell_type": "code",
   "execution_count": null,
   "metadata": {
    "collapsed": false
   },
   "outputs": [
    {
     "name": "stdout",
     "output_type": "stream",
     "text": [
      "Epoch 1/10 Iteration: 100 Avg. Training loss: 21.6334 0.3228 sec/batch\n",
      "Epoch 1/10 Iteration: 200 Avg. Training loss: 21.4442 0.3370 sec/batch\n",
      "Epoch 1/10 Iteration: 300 Avg. Training loss: 21.1499 0.3516 sec/batch\n",
      "Epoch 1/10 Iteration: 400 Avg. Training loss: 21.0702 0.3403 sec/batch\n",
      "Epoch 1/10 Iteration: 500 Avg. Training loss: 20.9330 0.3313 sec/batch\n",
      "Epoch 1/10 Iteration: 600 Avg. Training loss: 20.8610 0.3657 sec/batch\n",
      "Epoch 1/10 Iteration: 700 Avg. Training loss: 20.7380 0.3273 sec/batch\n",
      "Epoch 1/10 Iteration: 800 Avg. Training loss: 20.4748 0.3289 sec/batch\n",
      "Epoch 1/10 Iteration: 900 Avg. Training loss: 20.3871 0.3252 sec/batch\n",
      "Epoch 1/10 Iteration: 1000 Avg. Training loss: 20.2497 0.3261 sec/batch\n",
      "Nearest to all: basalt, synoptics, messalina, frobisher, serviced, lipoproteins, hillery, fields,\n",
      "Nearest to no: abuse, agile, fibre, quixtar, irascible, idolatrous, beak, heist,\n",
      "Nearest to six: homered, manuscript, hanrahan, radii, raum, cassidy, warlords, carmine,\n",
      "Nearest to would: detours, watershed, connotations, syllables, berated, redesign, slipping, acm,\n",
      "Nearest to these: ceramic, rose, ouverture, cyprinus, mechanics, spacey, raab, eclecticism,\n",
      "Nearest to also: pleading, nightingale, sax, voxel, shogunate, drawbacks, acrylamide, what,\n",
      "Nearest to have: consistency, unemployed, qualify, baltasar, enciphered, playlists, clara, tentacle,\n",
      "Nearest to other: westland, harring, hymnist, vojvodina, mba, jarring, berra, carnap,\n",
      "Nearest to marriage: stitch, territories, rubidium, eugenicists, winkler, ephraim, suffixed, servicing,\n",
      "Nearest to freedom: balances, kfor, masaryk, amontillado, praetors, cosimo, ramzi, pillaged,\n",
      "Nearest to powers: boathouse, games, singing, rumour, franjo, dpp, dol, rugrats,\n",
      "Nearest to nobel: nationally, sinha, aerosols, arose, beans, szombathely, reuven, recharged,\n",
      "Nearest to running: almenr, quintilis, illustrators, employs, stressing, waddell, ila, py,\n",
      "Nearest to accepted: christoph, waylon, gegenschein, calibrate, handgun, wallachia, mural, subfamily,\n",
      "Nearest to event: athlon, aleph, keyboard, maintainer, azhar, tsk, sistani, shrugged,\n",
      "Nearest to test: melancholy, socialiste, flukes, spectroscopy, scenarios, ucsb, sissy, haredi,\n",
      "Epoch 1/10 Iteration: 1100 Avg. Training loss: 20.1844 0.3370 sec/batch\n",
      "Epoch 1/10 Iteration: 1200 Avg. Training loss: 20.0259 0.3340 sec/batch\n",
      "Epoch 1/10 Iteration: 1300 Avg. Training loss: 19.8430 0.3268 sec/batch\n",
      "Epoch 1/10 Iteration: 1400 Avg. Training loss: 19.8202 0.3242 sec/batch\n",
      "Epoch 1/10 Iteration: 1500 Avg. Training loss: 19.6500 0.3244 sec/batch\n",
      "Epoch 1/10 Iteration: 1600 Avg. Training loss: 19.6433 0.3265 sec/batch\n",
      "Epoch 1/10 Iteration: 1700 Avg. Training loss: 19.4077 0.3246 sec/batch\n",
      "Epoch 1/10 Iteration: 1800 Avg. Training loss: 19.3400 0.3213 sec/batch\n",
      "Epoch 1/10 Iteration: 1900 Avg. Training loss: 19.2622 0.3239 sec/batch\n",
      "Epoch 1/10 Iteration: 2000 Avg. Training loss: 19.1260 0.3277 sec/batch\n",
      "Nearest to all: basalt, frobisher, synoptics, messalina, dissenter, fields, serviced, tientsin,\n",
      "Nearest to no: abuse, agile, irascible, fibre, quixtar, heist, neapolitan, tr,\n",
      "Nearest to six: homered, manuscript, radii, cassidy, hanrahan, raum, carmine, warlords,\n",
      "Nearest to would: detours, watershed, redesign, connotations, syllables, therese, berated, directors,\n",
      "Nearest to these: ceramic, rose, ouverture, cyprinus, raab, spacey, mechanics, lastly,\n",
      "Nearest to also: pleading, nightingale, voxel, sax, sibelius, shogunate, what, acrylamide,\n",
      "Nearest to have: consistency, qualify, unemployed, baltasar, enciphered, clara, tentacle, playlists,\n",
      "Nearest to other: harring, vojvodina, westland, hymnist, mba, seriousness, berra, jarring,\n",
      "Nearest to marriage: stitch, eugenicists, rubidium, ephraim, territories, winkler, dolby, topos,\n",
      "Nearest to freedom: balances, kfor, glise, praetors, masaryk, nob, amontillado, lamp,\n",
      "Nearest to powers: boathouse, games, singing, rumour, franjo, rugrats, photographers, dpp,\n",
      "Nearest to nobel: nationally, aerosols, sinha, photographs, arose, beans, chip, szombathely,\n",
      "Nearest to running: almenr, quintilis, employs, illustrators, stressing, py, waddell, orly,\n",
      "Nearest to accepted: christoph, waylon, gegenschein, handgun, calibrate, subfamily, mural, harper,\n",
      "Nearest to event: athlon, aleph, maintainer, keyboard, tsk, shrugged, sistani, speeding,\n",
      "Nearest to test: melancholy, socialiste, flukes, spectroscopy, scenarios, heel, ucsb, haredi,\n",
      "Epoch 1/10 Iteration: 2100 Avg. Training loss: 18.9407 0.3342 sec/batch\n",
      "Epoch 1/10 Iteration: 2200 Avg. Training loss: 18.8736 0.3259 sec/batch\n",
      "Epoch 1/10 Iteration: 2300 Avg. Training loss: 18.7959 0.3294 sec/batch\n",
      "Epoch 1/10 Iteration: 2400 Avg. Training loss: 18.6379 0.3293 sec/batch\n",
      "Epoch 1/10 Iteration: 2500 Avg. Training loss: 18.5312 0.3220 sec/batch\n",
      "Epoch 1/10 Iteration: 2600 Avg. Training loss: 18.4229 0.3270 sec/batch\n",
      "Epoch 1/10 Iteration: 2700 Avg. Training loss: 18.2750 0.3218 sec/batch\n",
      "Epoch 1/10 Iteration: 2800 Avg. Training loss: 18.2437 0.3183 sec/batch\n",
      "Epoch 1/10 Iteration: 2900 Avg. Training loss: 18.1186 0.3181 sec/batch\n",
      "Epoch 1/10 Iteration: 3000 Avg. Training loss: 18.1488 0.3225 sec/batch\n",
      "Nearest to all: frobisher, messalina, dissenter, basalt, lipoproteins, tientsin, symbolical, fields,\n",
      "Nearest to no: abuse, agile, heist, fibre, irascible, quixtar, quality, neapolitan,\n",
      "Nearest to six: manuscript, homered, hanrahan, radii, cassidy, raum, carmine, backing,\n",
      "Nearest to would: detours, watershed, berated, redesign, connotations, directors, xylem, satisfiability,\n",
      "Nearest to these: ceramic, rose, ouverture, cyprinus, raab, lastly, mechanics, spacey,\n",
      "Nearest to also: pleading, nightingale, sax, what, sibelius, voxel, shogunate, fishkeeping,\n",
      "Nearest to have: qualify, consistency, tentacle, unemployed, clara, baltasar, strategists, enciphered,\n",
      "Nearest to other: vojvodina, hymnist, westland, mba, harring, berra, carnap, jarring,\n",
      "Nearest to marriage: stitch, rubidium, eugenicists, ephraim, dolby, topos, fenwick, exponentials,\n",
      "Nearest to freedom: balances, glise, kfor, lamp, praetors, skirmishes, ramzi, nob,\n",
      "Nearest to powers: boathouse, rumour, games, singing, franjo, photographers, rugrats, synoptic,\n",
      "Nearest to nobel: nationally, sinha, aerosols, arose, photographs, beans, chip, recharged,\n",
      "Nearest to running: almenr, quintilis, illustrators, employs, stressing, py, waddell, ila,\n",
      "Nearest to accepted: gegenschein, waylon, christoph, handgun, calibrate, mural, subfamily, televisions,\n",
      "Nearest to event: athlon, keyboard, aleph, maintainer, brushing, tsk, sistani, speeding,\n",
      "Nearest to test: melancholy, spectroscopy, flukes, socialiste, universelle, haredi, scenarios, ucsb,\n",
      "Epoch 1/10 Iteration: 3100 Avg. Training loss: 17.9677 0.3190 sec/batch\n",
      "Epoch 1/10 Iteration: 3200 Avg. Training loss: 17.8299 0.3199 sec/batch\n",
      "Epoch 1/10 Iteration: 3300 Avg. Training loss: 17.7507 0.3127 sec/batch\n",
      "Epoch 1/10 Iteration: 3400 Avg. Training loss: 17.6321 0.3102 sec/batch\n",
      "Epoch 1/10 Iteration: 3500 Avg. Training loss: 17.4914 0.3173 sec/batch\n",
      "Epoch 1/10 Iteration: 3600 Avg. Training loss: 17.5103 0.3164 sec/batch\n",
      "Epoch 1/10 Iteration: 3700 Avg. Training loss: 17.2889 0.3161 sec/batch\n",
      "Epoch 1/10 Iteration: 3800 Avg. Training loss: 17.2722 0.3140 sec/batch\n",
      "Epoch 1/10 Iteration: 3900 Avg. Training loss: 17.1012 0.3175 sec/batch\n",
      "Epoch 1/10 Iteration: 4000 Avg. Training loss: 17.0454 0.3162 sec/batch\n",
      "Nearest to all: messalina, frobisher, dissenter, lipoproteins, limburgish, tientsin, basalt, banquets,\n",
      "Nearest to no: agile, abuse, heist, quixtar, neapolitan, irascible, tr, comme,\n",
      "Nearest to six: manuscript, cassidy, raum, homered, radii, carmine, hanrahan, strategos,\n",
      "Nearest to would: detours, watershed, ermengarde, berated, redesign, connotations, bubbles, xylem,\n",
      "Nearest to these: ceramic, rose, ouverture, raab, lastly, cyprinus, mechanics, spacey,\n",
      "Nearest to also: pleading, nightingale, what, sax, voxel, fishkeeping, sibelius, philoctetes,\n",
      "Nearest to have: qualify, consistency, tentacle, unemployed, clara, strategists, playlists, baltasar,\n",
      "Nearest to other: vojvodina, harring, hymnist, mba, westland, jarring, arithmetics, berra,\n",
      "Nearest to marriage: stitch, rubidium, exponentials, ephraim, eugenicists, topos, ledge, fenwick,\n",
      "Nearest to freedom: balances, glise, skirmishes, kfor, lamp, invokes, pillaged, indoor,\n",
      "Nearest to powers: boathouse, singing, games, franjo, synoptic, photographers, rumour, endomorphism,\n",
      "Nearest to nobel: nationally, aerosols, photographs, sinha, beans, szombathely, arose, freud,\n",
      "Nearest to running: almenr, illustrators, employs, quintilis, stressing, py, zeus, waddell,\n",
      "Nearest to accepted: gegenschein, waylon, handgun, christoph, calibrate, mural, dmitri, subfamily,\n",
      "Nearest to event: athlon, keyboard, aleph, brushing, tsk, blaxploitation, sistani, maintainer,\n",
      "Nearest to test: melancholy, spectroscopy, flukes, socialiste, ucsb, scenarios, universelle, heel,\n",
      "Epoch 1/10 Iteration: 4100 Avg. Training loss: 17.0536 0.3127 sec/batch\n",
      "Epoch 1/10 Iteration: 4200 Avg. Training loss: 16.9083 0.3118 sec/batch\n",
      "Epoch 1/10 Iteration: 4300 Avg. Training loss: 16.6818 0.3155 sec/batch\n",
      "Epoch 1/10 Iteration: 4400 Avg. Training loss: 16.6697 0.3479 sec/batch\n",
      "Epoch 1/10 Iteration: 4500 Avg. Training loss: 16.6074 0.3318 sec/batch\n",
      "Epoch 1/10 Iteration: 4600 Avg. Training loss: 16.5353 0.3108 sec/batch\n",
      "Epoch 2/10 Iteration: 4700 Avg. Training loss: 16.3890 0.2479 sec/batch\n",
      "Epoch 2/10 Iteration: 4800 Avg. Training loss: 16.2499 0.3213 sec/batch\n",
      "Epoch 2/10 Iteration: 4900 Avg. Training loss: 16.0729 0.3220 sec/batch\n",
      "Epoch 2/10 Iteration: 5000 Avg. Training loss: 15.9826 0.3081 sec/batch\n",
      "Nearest to all: lipoproteins, messalina, limburgish, frobisher, dissenter, symbolical, putrajaya, mn,\n",
      "Nearest to no: heist, abuse, agile, tr, quixtar, oman, neapolitan, comme,\n",
      "Nearest to six: radii, cassidy, hanrahan, homered, raum, manuscript, carmine, manon,\n",
      "Nearest to would: detours, watershed, redesign, environments, ermengarde, bubbles, berated, ascalon,\n",
      "Nearest to these: ceramic, ouverture, rose, raab, lastly, mechanics, cyprinus, spacey,\n",
      "Nearest to also: what, pleading, sax, nightingale, sibelius, isaf, voxel, disc,\n",
      "Nearest to have: consistency, tentacle, qualify, ferrari, kislev, playlists, unemployed, baltasar,\n",
      "Nearest to other: vojvodina, mba, westland, hymnist, arithmetics, partnering, intercepting, porky,\n",
      "Nearest to marriage: stitch, rubidium, eugenicists, exponentials, ephraim, topos, ledge, fenwick,\n",
      "Nearest to freedom: balances, skirmishes, glise, height, indoor, kindergartens, nob, kfor,\n",
      "Nearest to powers: boathouse, singing, franjo, games, endomorphism, synoptic, photographers, dpp,\n",
      "Nearest to nobel: nationally, aerosols, photographs, sinha, arose, szombathely, cbs, reuven,\n",
      "Nearest to running: almenr, quintilis, illustrators, stressing, employs, py, zeus, ila,\n",
      "Nearest to accepted: gegenschein, waylon, handgun, calibrate, mural, christoph, dmitri, subfamily,\n",
      "Nearest to event: athlon, keyboard, aleph, brushing, derided, tsk, speeding, blaxploitation,\n",
      "Nearest to test: melancholy, flukes, spectroscopy, scenarios, socialiste, ucsb, mark, haredi,\n",
      "Epoch 2/10 Iteration: 5100 Avg. Training loss: 16.0054 0.3069 sec/batch\n",
      "Epoch 2/10 Iteration: 5200 Avg. Training loss: 15.8905 0.3422 sec/batch\n",
      "Epoch 2/10 Iteration: 5300 Avg. Training loss: 15.6804 0.3277 sec/batch\n",
      "Epoch 2/10 Iteration: 5400 Avg. Training loss: 15.6524 0.3316 sec/batch\n",
      "Epoch 2/10 Iteration: 5500 Avg. Training loss: 15.5441 0.3117 sec/batch\n",
      "Epoch 2/10 Iteration: 5600 Avg. Training loss: 15.4958 0.3098 sec/batch\n",
      "Epoch 2/10 Iteration: 5700 Avg. Training loss: 15.4035 0.3232 sec/batch\n",
      "Epoch 2/10 Iteration: 5800 Avg. Training loss: 15.2437 0.3347 sec/batch\n",
      "Epoch 2/10 Iteration: 5900 Avg. Training loss: 15.1693 0.3280 sec/batch\n",
      "Epoch 2/10 Iteration: 6000 Avg. Training loss: 15.1121 0.3318 sec/batch\n",
      "Nearest to all: lipoproteins, banquets, frobisher, messalina, iib, limburgish, socialite, symbolical,\n",
      "Nearest to no: abuse, heist, tr, agile, comme, quality, oman, irascible,\n",
      "Nearest to six: carmine, raum, radii, homered, manuscript, cassidy, manon, hanrahan,\n",
      "Nearest to would: environments, watershed, detours, ermengarde, redesign, berated, brutally, connotations,\n",
      "Nearest to these: ceramic, raab, from, mechanics, ouverture, lastly, rose, costner,\n",
      "Nearest to also: what, sibelius, pleading, sax, nightingale, fishkeeping, cass, voxel,\n",
      "Nearest to have: tentacle, consistency, americana, ferrari, kislev, playlists, enciphered, qualify,\n",
      "Nearest to other: vojvodina, westland, partnering, mba, arithmetics, profiled, picton, carnap,\n",
      "Nearest to marriage: rubidium, stitch, exponentials, eugenicists, ephraim, dolby, topos, specifically,\n",
      "Nearest to freedom: glise, skirmishes, balances, kfor, cosimo, lamp, indoor, masaryk,\n",
      "Nearest to powers: boathouse, singing, franjo, synoptic, games, berries, dpp, photographers,\n",
      "Nearest to nobel: nationally, aerosols, photographs, sinha, reuven, szombathely, chip, arose,\n",
      "Nearest to running: almenr, quintilis, illustrators, stressing, employs, py, zeus, ila,\n",
      "Nearest to accepted: gegenschein, waylon, handgun, calibrate, christoph, mural, dmitri, harnesses,\n",
      "Nearest to event: athlon, keyboard, brushing, aleph, speeding, blaxploitation, harappa, krebs,\n",
      "Nearest to test: melancholy, flukes, scenarios, socialiste, spectroscopy, exhort, mark, haredi,\n",
      "Epoch 2/10 Iteration: 6100 Avg. Training loss: 15.1063 0.3308 sec/batch\n",
      "Epoch 2/10 Iteration: 6200 Avg. Training loss: 14.9993 0.3105 sec/batch\n",
      "Epoch 2/10 Iteration: 6300 Avg. Training loss: 14.8877 0.3079 sec/batch\n",
      "Epoch 2/10 Iteration: 6400 Avg. Training loss: 14.8350 0.3099 sec/batch\n",
      "Epoch 2/10 Iteration: 6500 Avg. Training loss: 14.7696 0.3186 sec/batch\n",
      "Epoch 2/10 Iteration: 6600 Avg. Training loss: 14.6486 0.3185 sec/batch\n",
      "Epoch 2/10 Iteration: 6700 Avg. Training loss: 14.4448 0.3191 sec/batch\n",
      "Epoch 2/10 Iteration: 6800 Avg. Training loss: 14.4515 0.3169 sec/batch\n",
      "Epoch 2/10 Iteration: 6900 Avg. Training loss: 14.4692 0.3132 sec/batch\n",
      "Epoch 2/10 Iteration: 7000 Avg. Training loss: 14.3954 0.3177 sec/batch\n",
      "Nearest to all: it, well, frobisher, putrajaya, lipoproteins, banquets, legend, iib,\n",
      "Nearest to no: heist, tr, comme, agile, quality, abuse, neapolitan, subrack,\n",
      "Nearest to six: zero, carmine, on, radii, ln, manon, and, raum,\n",
      "Nearest to would: often, detours, environments, watershed, connotations, euphoric, redesign, gab,\n",
      "Nearest to these: from, in, of, the, to, ceramic, and, a,\n",
      "Nearest to also: the, and, of, in, what, a, fishkeeping, to,\n",
      "Nearest to have: in, of, a, the, be, three, that, infamous,\n",
      "Nearest to other: vojvodina, codas, partnering, westland, arithmetics, manga, berio, porky,\n",
      "Nearest to marriage: eugenicists, rubidium, exponentials, fenwick, specifically, stitch, topos, ephraim,\n",
      "Nearest to freedom: balances, glise, skirmishes, kfor, masaryk, indoor, pillaged, height,\n",
      "Nearest to powers: boathouse, singing, franjo, berries, synoptic, games, rumour, stardom,\n",
      "Nearest to nobel: nationally, aerosols, photographs, sinha, freud, arose, szombathely, chip,\n",
      "Nearest to running: almenr, illustrators, quintilis, employs, py, stressing, zeus, patrilineal,\n",
      "Nearest to accepted: gegenschein, waylon, handgun, calibrate, christoph, mural, perches, puerta,\n",
      "Nearest to event: athlon, keyboard, aleph, brushing, speeding, pattie, oakland, harappa,\n",
      "Nearest to test: melancholy, flukes, socialiste, beachhead, scenarios, ucsb, exhort, spectroscopy,\n",
      "Epoch 2/10 Iteration: 7100 Avg. Training loss: 14.4663 0.3185 sec/batch\n",
      "Epoch 2/10 Iteration: 7200 Avg. Training loss: 14.1989 0.3157 sec/batch\n",
      "Epoch 2/10 Iteration: 7300 Avg. Training loss: 14.0066 0.3109 sec/batch\n",
      "Epoch 2/10 Iteration: 7400 Avg. Training loss: 14.0952 0.3119 sec/batch\n",
      "Epoch 2/10 Iteration: 7500 Avg. Training loss: 14.0254 0.3225 sec/batch\n",
      "Epoch 2/10 Iteration: 7600 Avg. Training loss: 13.8466 0.3346 sec/batch\n",
      "Epoch 2/10 Iteration: 7700 Avg. Training loss: 13.7445 0.3399 sec/batch\n",
      "Epoch 2/10 Iteration: 7800 Avg. Training loss: 13.8172 0.3380 sec/batch\n",
      "Epoch 2/10 Iteration: 7900 Avg. Training loss: 13.5737 0.3362 sec/batch\n"
     ]
    }
   ],
   "source": [
    "epochs = 10\n",
    "batch_size = 1000\n",
    "window_size = 10\n",
    "\n",
    "with train_graph.as_default():\n",
    "    saver = tf.train.Saver()\n",
    "\n",
    "with tf.Session(graph=train_graph) as sess:\n",
    "    iteration = 1\n",
    "    loss = 0\n",
    "    sess.run(tf.global_variables_initializer())\n",
    "\n",
    "    for e in range(1, epochs+1):\n",
    "        batches = get_batches(train_words, batch_size, window_size)\n",
    "        start = time.time()\n",
    "        for x, y in batches:\n",
    "            \n",
    "            feed = {inputs: x,\n",
    "                    labels: np.array(y)[:, None]}\n",
    "            train_loss, _ = sess.run([cost, optimizer], feed_dict=feed)\n",
    "            \n",
    "            loss += train_loss\n",
    "            \n",
    "            if iteration % 100 == 0: \n",
    "                end = time.time()\n",
    "                print(\"Epoch {}/{}\".format(e, epochs),\n",
    "                      \"Iteration: {}\".format(iteration),\n",
    "                      \"Avg. Training loss: {:.4f}\".format(loss/100),\n",
    "                      \"{:.4f} sec/batch\".format((end-start)/100))\n",
    "                loss = 0\n",
    "                start = time.time()\n",
    "            \n",
    "            if iteration % 1000 == 0:\n",
    "                ## From Thushan Ganegedara's implementation\n",
    "                # note that this is expensive (~20% slowdown if computed every 500 steps)\n",
    "                sim = similarity.eval()\n",
    "                for i in range(valid_size):\n",
    "                    valid_word = int_to_vocab[valid_examples[i]]\n",
    "                    top_k = 8 # number of nearest neighbors\n",
    "                    nearest = (-sim[i, :]).argsort()[1:top_k+1]\n",
    "                    log = 'Nearest to %s:' % valid_word\n",
    "                    for k in range(top_k):\n",
    "                        close_word = int_to_vocab[nearest[k]]\n",
    "                        log = '%s %s,' % (log, close_word)\n",
    "                    print(log)\n",
    "            \n",
    "            iteration += 1\n",
    "    save_path = saver.save(sess, \"checkpoints/text8.ckpt\")\n",
    "    embed_mat = sess.run(normalized_embedding)"
   ]
  },
  {
   "cell_type": "markdown",
   "metadata": {},
   "source": [
    "Restore the trained network if you need to:"
   ]
  },
  {
   "cell_type": "code",
   "execution_count": null,
   "metadata": {
    "collapsed": true
   },
   "outputs": [],
   "source": [
    "with train_graph.as_default():\n",
    "    saver = tf.train.Saver()\n",
    "\n",
    "with tf.Session(graph=train_graph) as sess:\n",
    "    saver.restore(sess, tf.train.latest_checkpoint('checkpoints'))\n",
    "    embed_mat = sess.run(embedding)"
   ]
  },
  {
   "cell_type": "markdown",
   "metadata": {},
   "source": [
    "## Visualizing the word vectors\n",
    "\n",
    "Below we'll use T-SNE to visualize how our high-dimensional word vectors cluster together. T-SNE is used to project these vectors into two dimensions while preserving local stucture. Check out [this post from Christopher Olah](http://colah.github.io/posts/2014-10-Visualizing-MNIST/) to learn more about T-SNE and other ways to visualize high-dimensional data."
   ]
  },
  {
   "cell_type": "code",
   "execution_count": null,
   "metadata": {
    "collapsed": true
   },
   "outputs": [],
   "source": [
    "%matplotlib inline\n",
    "%config InlineBackend.figure_format = 'retina'\n",
    "\n",
    "import matplotlib.pyplot as plt\n",
    "from sklearn.manifold import TSNE"
   ]
  },
  {
   "cell_type": "code",
   "execution_count": null,
   "metadata": {
    "collapsed": true
   },
   "outputs": [],
   "source": [
    "viz_words = 500\n",
    "tsne = TSNE()\n",
    "embed_tsne = tsne.fit_transform(embed_mat[:viz_words, :])"
   ]
  },
  {
   "cell_type": "code",
   "execution_count": null,
   "metadata": {
    "collapsed": true
   },
   "outputs": [],
   "source": [
    "fig, ax = plt.subplots(figsize=(14, 14))\n",
    "for idx in range(viz_words):\n",
    "    plt.scatter(*embed_tsne[idx, :], color='steelblue')\n",
    "    plt.annotate(int_to_vocab[idx], (embed_tsne[idx, 0], embed_tsne[idx, 1]), alpha=0.7)"
   ]
  }
 ],
 "metadata": {
  "kernelspec": {
   "display_name": "Python 3",
   "language": "python",
   "name": "python3"
  },
  "language_info": {
   "codemirror_mode": {
    "name": "ipython",
    "version": 3
   },
   "file_extension": ".py",
   "mimetype": "text/x-python",
   "name": "python",
   "nbconvert_exporter": "python",
   "pygments_lexer": "ipython3",
   "version": "3.5.3"
  }
 },
 "nbformat": 4,
 "nbformat_minor": 2
}
